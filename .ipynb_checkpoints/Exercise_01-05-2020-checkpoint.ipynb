{
 "cells": [
  {
   "cell_type": "markdown",
   "metadata": {},
   "source": [
    "Write a program that reads an integer from the user. Then your program should\n",
    "display a message indicating whether the integer is even or odd."
   ]
  },
  {
   "cell_type": "markdown",
   "metadata": {},
   "source": [
    "Number = int (input ('Enter a number = '))\n",
    "if Number%2 == 0:\n",
    "    print ('Even Number')\n",
    "elif Number ==11:\n",
    "    print ('Eleven')\n",
    "else:\n",
    "    print ('Odd Number')"
   ]
  },
  {
   "cell_type": "code",
   "execution_count": null,
   "metadata": {},
   "outputs": [],
   "source": []
  },
  {
   "cell_type": "markdown",
   "metadata": {},
   "source": [
    "It is commonly said that one human year is equivalent to 7 dog years. However this\n",
    "simple conversion fails to recognize that dogs reach adulthood in approximately two\n",
    "years. As a result, some people believe that it is better to count each of the first two\n",
    "human years as 10.5 dog years, and then count each additional human year as 4 dog\n",
    "years."
   ]
  },
  {
   "cell_type": "markdown",
   "metadata": {},
   "source": [
    "Write a program that implements the conversion from human years to dog years\n",
    "described in the previous paragraph. Ensure that your program works correctly for\n",
    "conversions of less than two human years and for conversions of two or more human\n",
    "years. Your program should display an appropriate error message if the user enters\n",
    "a negative number."
   ]
  },
  {
   "cell_type": "code",
   "execution_count": 8,
   "metadata": {
    "scrolled": true
   },
   "outputs": [
    {
     "name": "stdout",
     "output_type": "stream",
     "text": [
      "Enter your age 4\n",
      "Dog age =  29.0\n"
     ]
    }
   ],
   "source": [
    "HAge = float(input ('Enter your age '))\n",
    "if HAge < 0.0:\n",
    "    print ('Error')\n",
    "elif HAge<=2.0:\n",
    "    HAge = HAge*10.5\n",
    "    print ('Dog age = ', HAge)\n",
    "\n",
    "else: \n",
    "    HAge = (2*10.5)+(HAge-2)*4\n",
    "    print('Dog age = ', HAge)"
   ]
  },
  {
   "cell_type": "markdown",
   "metadata": {},
   "source": [
    "Write a program that determines the name of a shape from its number of sides. Read\n",
    "the number of sides from the user and then report the appropriate name as part of\n",
    "a meaningful message. Your program should support shapes with anywhere from 3\n",
    "up to (and including) 10 sides. If a number of sides outside of this range is entered\n",
    "then your program should display an appropriate error message."
   ]
  },
  {
   "cell_type": "code",
   "execution_count": null,
   "metadata": {},
   "outputs": [],
   "source": [
    "x = int(input ('Enter your No :  '))"
   ]
  },
  {
   "cell_type": "markdown",
   "metadata": {},
   "source": [
    "x = int(input ('Enter your sides no :  '))\n",
    "if x<2\n",
    "    print ('Error')\n",
    "elif x==3:\n",
    "    print ('Shape is Triangle' )\n",
    "elif x==4:\n",
    "    print ('Shape is Square' )\n",
    "elif x==5:\n",
    "    print ('Shape is Pentagon' )\n",
    "elif x==6:\n",
    "    print ('Shape is Hexagon' )\n",
    "elif x==7:\n",
    "    print ('Shape is Heptagon' )\n",
    "elif x==8:\n",
    "    print ('Shape is Octagon' )\n",
    "elif x==9:\n",
    "    print ('Shape is Nonagon' )\n",
    "elif x==10:\n",
    "    print ('Shape is Decagon' )\n",
    "\n",
    "else : \n",
    "    \n",
    "    print('Error')"
   ]
  },
  {
   "cell_type": "markdown",
   "metadata": {},
   "source": [
    "The length of a month varies from 28 to 31 days. In this exercise you will create\n",
    "a program that reads the name of a month from the user as a string. Then your\n",
    "program should display the number of days in that month. Display “28 or 29 days”\n",
    "for February so that leap years are addressed."
   ]
  },
  {
   "cell_type": "code",
   "execution_count": null,
   "metadata": {},
   "outputs": [],
   "source": [
    "x = str(input ('Enter your month :  '))\n",
    "if x=='january' or x=='march' or x=='may' or x=='july' or x == 'august' or x=='october' or x== 'december':\n",
    "    print ('31 days')\n",
    "elif x== 'february':\n",
    "    print ('28 or 29 Days' )\n",
    "elif  x=='april' or x=='june' or x=='september' or x=='november':\n",
    "    print ('30 days')\n",
    "else : \n",
    "    print('Error')"
   ]
  },
  {
   "cell_type": "code",
   "execution_count": 4,
   "metadata": {},
   "outputs": [
    {
     "name": "stdout",
     "output_type": "stream",
     "text": [
      "Enter a month : 2\n",
      "feb or 28 or 29 days\n"
     ]
    }
   ],
   "source": [
    "x= input('Enter a month : ')\n",
    "if x=='jan' or x=='mar' or x=='may' or x=='jul' or x=='aug'or x=='oct'or x=='dec':\n",
    "    print(' 31 days')\n",
    "elif x=='feb'or x==2:\n",
    "    print('28 or 29 days')\n",
    "else:\n",
    "    print('30 days')"
   ]
  },
  {
   "cell_type": "markdown",
   "metadata": {},
   "source": []
  },
  {
   "cell_type": "code",
   "execution_count": null,
   "metadata": {},
   "outputs": [],
   "source": []
  },
  {
   "cell_type": "markdown",
   "metadata": {},
   "source": [
    "# Exercise 39: Sound Levels 17\n",
    "Noise Decibel level (dB)\n",
    "Jackhammer 130\n",
    "Gas lawnmower 106\n",
    "Alarm clock 70\n",
    "Quiet room 40\n",
    "Write a program that reads a sound level in decibels from the user. If the user\n",
    "enters a decibel level that matches one of the noises in the table then your program\n",
    "should display a message containing only that noise. If the user enters a number\n",
    "of decibels between the noises listed then your program should display a message\n",
    "indicating which noises the level is between. Ensure that your program also generates\n",
    "reasonable output for a value smaller than the quietest noise in the table, and for a\n",
    "value larger than the loudest noise in the table.\n",
    "Exercise 40:"
   ]
  },
  {
   "cell_type": "code",
   "execution_count": null,
   "metadata": {},
   "outputs": [],
   "source": [
    "x= int(input('Enter a month : '))\n",
    "\n",
    "if x<40:\n",
    "    print('smaller value')\n",
    "elif x>130:\n",
    "    print('Greater Value')\n",
    "elif x>40 and x<=69:\n",
    "    print(' Between Quiet Room & Alarm Clock')\n",
    "elif x>=70 and x<105:\n",
    "    print('between Quiet Room')\n"
   ]
  },
  {
   "cell_type": "code",
   "execution_count": 25,
   "metadata": {},
   "outputs": [
    {
     "name": "stdout",
     "output_type": "stream",
     "text": [
      " Enter sound level : 80\n",
      "sound between alarm clock and Gas lawnmower\n"
     ]
    }
   ],
   "source": [
    "x= float(input(' Enter sound level : '))\n",
    "if x==130:\n",
    "    print('Jack hammer')\n",
    "elif x==106:\n",
    "    print('Gas lawnmower')\n",
    "elif x==70:\n",
    "    print('Alarm clock')\n",
    "elif x==40:\n",
    "    print('Quiet room')\n",
    "elif x>40 and x<70:\n",
    "    print('sound between quiet room and alarm clock')\n",
    "elif x>70 and x<106:\n",
    "    print('sound between alarm clock and Gas lawnmower')\n",
    "elif x>106 and x<130:\n",
    "    print('sound between Gas lawnmower and Jack hammer')\n",
    "elif x<40:\n",
    "    print('Its silent')\n",
    "elif x>130:\n",
    "    print('Gre v')\n"
   ]
  },
  {
   "cell_type": "markdown",
   "metadata": {},
   "source": [
    "Exercise 62: Discount Table\n",
    "(18 Lines)\n",
    "\n",
    "A particular retailer is having a 60 percent off sale on a variety of discontinued\n",
    "products. The retailer would like to help its customers determine the reduced price\n",
    "of the merchandise by having a printed discount table on the shelf that shows the\n",
    "\n",
    "\n",
    "original prices and the prices after the discount has been applied. Write a program that\n",
    "uses a loop to generate this table, showing the original price, the discount amount,\n",
    "and the new price for purchases of $4.95, $9.95, $14.95, $19.95 and $24.95. Ensure\n",
    "that the discount amounts and the new prices are rounded to 2 decimal places when\n",
    "they are displayed."
   ]
  },
  {
   "cell_type": "code",
   "execution_count": null,
   "metadata": {},
   "outputs": [],
   "source": []
  },
  {
   "cell_type": "code",
   "execution_count": 39,
   "metadata": {},
   "outputs": [
    {
     "name": "stdout",
     "output_type": "stream",
     "text": [
      "4\n",
      "9\n",
      "14\n",
      "19\n",
      "24\n"
     ]
    }
   ],
   "source": [
    "for x in \n",
    "    print(x)"
   ]
  },
  {
   "cell_type": "code",
   "execution_count": 33,
   "metadata": {},
   "outputs": [
    {
     "data": {
      "text/plain": [
       "range(4, 2, 3)"
      ]
     },
     "execution_count": 33,
     "metadata": {},
     "output_type": "execute_result"
    }
   ],
   "source": [
    "range(4,2,3)"
   ]
  },
  {
   "cell_type": "code",
   "execution_count": 31,
   "metadata": {},
   "outputs": [
    {
     "data": {
      "text/plain": [
       "range(4, 2, 3)"
      ]
     },
     "execution_count": 31,
     "metadata": {},
     "output_type": "execute_result"
    }
   ],
   "source": []
  },
  {
   "cell_type": "code",
   "execution_count": 32,
   "metadata": {},
   "outputs": [
    {
     "data": {
      "text/plain": [
       "range"
      ]
     },
     "execution_count": 32,
     "metadata": {},
     "output_type": "execute_result"
    }
   ],
   "source": [
    "type(x)"
   ]
  },
  {
   "cell_type": "code",
   "execution_count": 42,
   "metadata": {},
   "outputs": [
    {
     "name": "stdout",
     "output_type": "stream",
     "text": [
      "old=4.95,dis=2.97,new=1.98\n",
      "old=9.95,dis=5.97,new=3.98\n",
      "old=14.95,dis=8.97,new=5.98\n",
      "old=19.95,dis=11.97,new=7.98\n",
      "old=24.95,dis=14.97,new=9.98\n"
     ]
    }
   ],
   "source": [
    "ls=[4ls5,24.95]\n",
    "\n",
    "for x in ls:\n",
    "    disc=x*0.6\n",
    "    new=x-disc\n",
    "    print(\"old={:.2f},dis={:.2f},new={:.2f}\".format(x,disc,new))"
   ]
  },
  {
   "cell_type": "code",
   "execution_count": 44,
   "metadata": {},
   "outputs": [
    {
     "name": "stdout",
     "output_type": "stream",
     "text": [
      "|orig= 4.95| disc= 2.97 | new= 1.98|\n",
      "|orig= 9.95| disc= 5.97 | new= 3.98|\n",
      "|orig= 14.95| disc= 8.97 | new= 5.98|\n",
      "|orig= 24.95| disc= 14.97 | new= 9.98|\n"
     ]
    }
   ],
   "source": [
    "old=[4.95, 9.95, 14.95, 19.95 and 24.95]\n",
    "for each in old:\n",
    "    print(\"|orig= {:.2f}| disc= {:.2f} | new= {:.2f}|\" .format(each,each*.6,each-(each*.6)))"
   ]
  },
  {
   "cell_type": "code",
   "execution_count": 46,
   "metadata": {},
   "outputs": [
    {
     "data": {
      "text/plain": [
       "[4.95, 9.95, 14.95, 19.95, 24.95]"
      ]
     },
     "execution_count": 46,
     "metadata": {},
     "output_type": "execute_result"
    }
   ],
   "source": [
    "ls"
   ]
  },
  {
   "cell_type": "code",
   "execution_count": 47,
   "metadata": {},
   "outputs": [
    {
     "data": {
      "text/plain": [
       "[4.95, 9.95, 14.95, 24.95]"
      ]
     },
     "execution_count": 47,
     "metadata": {},
     "output_type": "execute_result"
    }
   ],
   "source": [
    "old"
   ]
  },
  {
   "cell_type": "code",
   "execution_count": 54,
   "metadata": {},
   "outputs": [
    {
     "name": "stdout",
     "output_type": "stream",
     "text": [
      "Price = 400.950000 , Discount = 240.57 ,  New Price = 160.380000 \n",
      "Price = 9.950000 , Discount = 5.97 ,  New Price = 3.980000 \n",
      "Price = 15.950000 , Discount = 9.57 ,  New Price = 6.380000 \n",
      "Price = 19.950000 , Discount = 11.97 ,  New Price = 7.980000 \n",
      "Price = 24.950000 , Discount = 14.97 ,  New Price = 9.980000 \n"
     ]
    }
   ],
   "source": [
    "lst=[400.95,9.95,15.95,19.95,24.95]\n",
    "for x in lst:\n",
    "    dis = x*0.60\n",
    "    new= x-dis\n",
    "    print('Price = {:.2f} , Discount = {:.2f} ,  New Price = {:2f} '.format(x,dis,new))"
   ]
  },
  {
   "cell_type": "code",
   "execution_count": 61,
   "metadata": {},
   "outputs": [
    {
     "name": "stdout",
     "output_type": "stream",
     "text": [
      "cel is 0.000 || fe is 32.0\n",
      "cel is 10.000 || fe is 50.0\n",
      "cel is 20.000 || fe is 68.0\n",
      "cel is 30.000 || fe is 86.0\n",
      "cel is 40.000 || fe is 104.0\n",
      "cel is 50.000 || fe is 122.0\n",
      "cel is 60.000 || fe is 140.0\n",
      "cel is 70.000 || fe is 158.0\n",
      "cel is 80.000 || fe is 176.0\n",
      "cel is 90.000 || fe is 194.0\n",
      "cel is 100.000 || fe is 212.0\n"
     ]
    }
   ],
   "source": [
    "for x in range(0,101,10):\n",
    "    c_f = (x * 9/5) + 32\n",
    "    print('cel is {:.3f} || fe is {}' .format(x,c_f))"
   ]
  },
  {
   "cell_type": "code",
   "execution_count": 59,
   "metadata": {},
   "outputs": [
    {
     "data": {
      "text/plain": [
       "float"
      ]
     },
     "execution_count": 59,
     "metadata": {},
     "output_type": "execute_result"
    }
   ],
   "source": [
    "type(c_f)"
   ]
  },
  {
   "cell_type": "code",
   "execution_count": 66,
   "metadata": {},
   "outputs": [
    {
     "name": "stdout",
     "output_type": "stream",
     "text": [
      " Celsius 10.00   ||  Fahrenheit 42.00  \n",
      " Celsius 20.00   ||  Fahrenheit 52.00  \n",
      " Celsius 30.00   ||  Fahrenheit 62.00  \n",
      " Celsius 40.00   ||  Fahrenheit 72.00  \n",
      " Celsius 50.00   ||  Fahrenheit 82.00  \n",
      " Celsius 60.00   ||  Fahrenheit 92.00  \n",
      " Celsius 70.00   ||  Fahrenheit 102.00  \n",
      " Celsius 80.00   ||  Fahrenheit 112.00  \n",
      " Celsius 90.00   ||  Fahrenheit 122.00  \n",
      " Celsius 100.00   ||  Fahrenheit 132.00  \n"
     ]
    }
   ],
   "source": [
    "temp=list(range(10,101,10))\n",
    "for t in temp:\n",
    "    c_f= t+32\n",
    "    print( ' Celsius {:.2f}   ||  Fahrenheit {:.2f}  '.format(t,c_f))"
   ]
  },
  {
   "cell_type": "markdown",
   "metadata": {},
   "source": [
    "# Exercise 72: Is a String a Palindrome?\n",
    "(Solved—23 Lines)\n",
    "A string is a palindrome if it is identical forward and backward. For example “anna”,\n",
    "“civic”, “level” and “hannah” are all examples of palindromicwords. Write a program\n",
    "that reads a string from the user and uses a loop to determines whether or not it is a\n",
    "palindrome. Display the result, including a meaningful output message."
   ]
  },
  {
   "cell_type": "code",
   "execution_count": 68,
   "metadata": {},
   "outputs": [],
   "source": [
    "ls=[civic]"
   ]
  },
  {
   "cell_type": "code",
   "execution_count": 70,
   "metadata": {},
   "outputs": [],
   "source": [
    "ls.reverse()"
   ]
  },
  {
   "cell_type": "code",
   "execution_count": 71,
   "metadata": {},
   "outputs": [
    {
     "ename": "NameError",
     "evalue": "name 'sdfsdf' is not defined",
     "output_type": "error",
     "traceback": [
      "\u001b[1;31m---------------------------------------------------------------------------\u001b[0m",
      "\u001b[1;31mNameError\u001b[0m                                 Traceback (most recent call last)",
      "\u001b[1;32m<ipython-input-71-c5f18b9034ee>\u001b[0m in \u001b[0;36m<module>\u001b[1;34m\u001b[0m\n\u001b[1;32m----> 1\u001b[1;33m \u001b[0msdfsdf\u001b[0m\u001b[1;33m\u001b[0m\u001b[1;33m\u001b[0m\u001b[0m\n\u001b[0m\u001b[0;32m      2\u001b[0m \u001b[0msdfsdfsdf\u001b[0m\u001b[1;33m\u001b[0m\u001b[1;33m\u001b[0m\u001b[0m\n\u001b[0;32m      3\u001b[0m \u001b[0msfsfsdf\u001b[0m\u001b[1;33m\u001b[0m\u001b[1;33m\u001b[0m\u001b[0m\n\u001b[0;32m      4\u001b[0m \u001b[0mfsdfsdf\u001b[0m\u001b[1;33m\u001b[0m\u001b[1;33m\u001b[0m\u001b[0m\n\u001b[0;32m      5\u001b[0m \u001b[0msdfsdf\u001b[0m\u001b[1;33m\u001b[0m\u001b[1;33m\u001b[0m\u001b[0m\n",
      "\u001b[1;31mNameError\u001b[0m: name 'sdfsdf' is not defined"
     ]
    }
   ],
   "source": [
    "sdfsdf\n",
    "sdfsdfsdf\n",
    "sfsfsdf\n",
    "fsdfsdf\n",
    "sdfsdf\n",
    "sdgsdg\n",
    "sgsdg\n"
   ]
  },
  {
   "cell_type": "code",
   "execution_count": 76,
   "metadata": {},
   "outputs": [
    {
     "name": "stdout",
     "output_type": "stream",
     "text": [
      "enter string: alsdfjasdfj\n",
      "not palin\n"
     ]
    }
   ],
   "source": [
    "a=input('enter string: ')\n",
    "if a== a[::-1]:\n",
    "    print('palin')\n",
    "else:\n",
    "    print('not palin')"
   ]
  },
  {
   "cell_type": "code",
   "execution_count": 77,
   "metadata": {},
   "outputs": [
    {
     "data": {
      "text/plain": [
       "'drow'"
      ]
     },
     "execution_count": 77,
     "metadata": {},
     "output_type": "execute_result"
    }
   ],
   "source": [
    "a='word'\n",
    "a[::-1]"
   ]
  },
  {
   "cell_type": "code",
   "execution_count": 2,
   "metadata": {},
   "outputs": [
    {
     "name": "stdout",
     "output_type": "stream",
     "text": [
      "anna\n",
      "palandrom\n"
     ]
    }
   ],
   "source": [
    "stri=input()\n",
    "i=0\n",
    "key=0\n",
    "length=len(stri)-1\n",
    "while i<=len(stri)-1:\n",
    "    if stri[i]==stri[length]:\n",
    "        i\n",
    "        length=length-1\n",
    "        continue\n",
    "    else:\n",
    "        print(\"not palandrom\")\n",
    "        key=1\n",
    "        break=i+1\n",
    "if key==0:\n",
    "    print(\"palandrom\")\n",
    "\n",
    "    "
   ]
  },
  {
   "cell_type": "code",
   "execution_count": 80,
   "metadata": {},
   "outputs": [
    {
     "name": "stdout",
     "output_type": "stream",
     "text": [
      "Enter String: 12321\n",
      "The Number 12321 is a Palindrome\n"
     ]
    }
   ],
   "source": [
    "A= int(input (\"Enter String: \"))\n",
    "temp = A\n",
    "rev = 0\n",
    "while (A>0):\n",
    "    dig=A%10\n",
    "    rev=rev*10+dig\n",
    "    A=A//10\n",
    "if (temp==rev):\n",
    "    print (\"The Number {} is a Palindrome\" .format(temp))\n",
    "else:\n",
    "    print (\"The Number {} isn't a palindrome\" .format (temp))"
   ]
  },
  {
   "cell_type": "code",
   "execution_count": 3,
   "metadata": {},
   "outputs": [
    {
     "name": "stdout",
     "output_type": "stream",
     "text": [
      "banesh\n",
      "6\n"
     ]
    }
   ],
   "source": [
    "x=input()\n",
    "print(len(x))"
   ]
  },
  {
   "cell_type": "code",
   "execution_count": 4,
   "metadata": {},
   "outputs": [
    {
     "data": {
      "text/plain": [
       "0"
      ]
     },
     "execution_count": 4,
     "metadata": {},
     "output_type": "execute_result"
    }
   ],
   "source": [
    "8//10"
   ]
  },
  {
   "cell_type": "code",
   "execution_count": 5,
   "metadata": {},
   "outputs": [
    {
     "data": {
      "text/plain": [
       "2"
      ]
     },
     "execution_count": 5,
     "metadata": {},
     "output_type": "execute_result"
    }
   ],
   "source": [
    "8//3"
   ]
  },
  {
   "cell_type": "code",
   "execution_count": 6,
   "metadata": {},
   "outputs": [
    {
     "data": {
      "text/plain": [
       "2.6666666666666665"
      ]
     },
     "execution_count": 6,
     "metadata": {},
     "output_type": "execute_result"
    }
   ],
   "source": [
    "8/3"
   ]
  },
  {
   "cell_type": "code",
   "execution_count": 16,
   "metadata": {},
   "outputs": [
    {
     "data": {
      "text/plain": [
       "6"
      ]
     },
     "execution_count": 16,
     "metadata": {},
     "output_type": "execute_result"
    }
   ],
   "source": [
    "a='string'\n",
    "len(a)"
   ]
  },
  {
   "cell_type": "code",
   "execution_count": 21,
   "metadata": {},
   "outputs": [
    {
     "data": {
      "text/plain": [
       "0.6"
      ]
     },
     "execution_count": 21,
     "metadata": {},
     "output_type": "execute_result"
    }
   ],
   "source": [
    "\n"
   ]
  },
  {
   "cell_type": "code",
   "execution_count": null,
   "metadata": {},
   "outputs": [],
   "source": []
  }
 ],
 "metadata": {
  "kernelspec": {
   "display_name": "Python 3",
   "language": "python",
   "name": "python3"
  },
  "language_info": {
   "codemirror_mode": {
    "name": "ipython",
    "version": 3
   },
   "file_extension": ".py",
   "mimetype": "text/x-python",
   "name": "python",
   "nbconvert_exporter": "python",
   "pygments_lexer": "ipython3",
   "version": "3.7.6"
  }
 },
 "nbformat": 4,
 "nbformat_minor": 4
}
