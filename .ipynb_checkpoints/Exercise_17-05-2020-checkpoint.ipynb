{
 "cells": [
  {
   "cell_type": "markdown",
   "metadata": {},
   "source": [
    "Exercise 65: Compute the Perimeter of a Polygon\n",
    "(Solved—42 Lines)\n",
    "Write a program that computes the perimeter of a polygon. Begin by reading the x\n",
    "and y values for the first point on the perimeter of the polygon from the user. Then\n",
    "continue reading pairs of x and y values until the user enters a blank line for the\n",
    "Exercise 65:Compute the Perimeter of a Polygon 31\n",
    "x-coordinate. Each time you read an additional coordinate you should compute the\n",
    "distance to the previous point and add it to the perimeter. When a blank line is entered\n",
    "for the x-coordinate your program should add the distance from the last point back\n",
    "to the first point to the perimeter. Then it should display the total perimeter. Sample\n",
    "input and output is shown below, with user input shown in bold:\n",
    "Enter the x part of the coordinate: 0\n",
    "Enter the y part of the coordinate: 0\n",
    "Enter the x part of the coordinate: (blank to quit): 1\n",
    "Enter the y part of the coordinate: 0\n",
    "Enter the x part of the coordinate: (blank to quit): 0\n",
    "Enter the y part of the coordinate: 1\n",
    "Enter the x part of the coordinate: (blank to quit):\n",
    "The perimeter of that polygon is 3.414213562373095"
   ]
  },
  {
   "cell_type": "code",
   "execution_count": 5,
   "metadata": {},
   "outputs": [
    {
     "name": "stdout",
     "output_type": "stream",
     "text": [
      "Enter X co-ordinate(blank to quit) : 1\n",
      "Enter Y co-ordinate : 1\n",
      "Enter X co-ordinate(blank to quit) : 7\n",
      "Enter Y co-ordinate : 7\n",
      "Enter X co-ordinate(blank to quit) : 5\n",
      "Enter Y co-ordinate : 5\n",
      "Enter X co-ordinate(blank to quit) : \n",
      "16.97056274847714\n"
     ]
    }
   ],
   "source": [
    "x1=int(input('Enter X co-ordinate(blank to quit) : '))\n",
    "y1=int(input('Enter Y co-ordinate : '))\n",
    "x=x1\n",
    "y=y1\n",
    "x2=x1\n",
    "y2=y1\n",
    "su=0\n",
    "while x1!='':\n",
    "    x1=input('Enter X co-ordinate(blank to quit) : ')\n",
    "    if x1=='':\n",
    "        x1=x\n",
    "        y1=y\n",
    "        d= ((((x1-x2)**2) + ((y1-y2)**2)))**(1/2)\n",
    "        su+=d\n",
    "        break\n",
    "    x1=int(x1)\n",
    "    y1=int(input('Enter Y co-ordinate : '))\n",
    "    d= ((((x1-x2)**2) + ((y1-y2)**2)))**(1/2)\n",
    "    su+=d\n",
    "    x2=x1\n",
    "    y2=y1\n",
    "print(su)"
   ]
  },
  {
   "cell_type": "markdown",
   "metadata": {},
   "source": [
    "Exercise 110: Perfect Numbers\n",
    "(Solved—35 Lines)\n",
    "An integer, n, is said to be perfect when the sum of all of the proper divisors of n is\n",
    "equal to n. For example, 28 is a perfect number because its proper divisors are 1, 2,\n",
    "4, 7 and 14, and 1 + 2 + 4 + 7 + 14 = 28.\n",
    "Write a function that determines whether or not a positive integer is perfect. Your\n",
    "function will take one parameter. If that parameter is a perfect number then your function\n",
    "will return true. Otherwise it will return false. In addition, write a main program\n",
    "that uses your function to identify and display all of the perfect numbers between 1\n",
    "and 10,000. Import your solution to Exercise 109 when completing this task."
   ]
  },
  {
   "cell_type": "code",
   "execution_count": 8,
   "metadata": {},
   "outputs": [],
   "source": [
    "#per=int(input('Enter Perfect n :  '))\n",
    "\n",
    "def perfect(per):\n",
    "    su=0\n",
    "    for i in range(1,per):\n",
    "            if per%i==0:\n",
    "                su+=i  \n",
    "    if per==su:\n",
    "        return True"
   ]
  },
  {
   "cell_type": "code",
   "execution_count": 9,
   "metadata": {},
   "outputs": [
    {
     "name": "stdout",
     "output_type": "stream",
     "text": [
      "[24]\n"
     ]
    }
   ],
   "source": [
    "a=[]\n",
    "for each in range(1,10000):\n",
    "    nu=perfect(each)\n",
    "    if nu==True:\n",
    "        a.append(each)\n",
    "print(a)"
   ]
  },
  {
   "cell_type": "code",
   "execution_count": null,
   "metadata": {},
   "outputs": [],
   "source": []
  }
 ],
 "metadata": {
  "kernelspec": {
   "display_name": "Python 3",
   "language": "python",
   "name": "python3"
  },
  "language_info": {
   "codemirror_mode": {
    "name": "ipython",
    "version": 3
   },
   "file_extension": ".py",
   "mimetype": "text/x-python",
   "name": "python",
   "nbconvert_exporter": "python",
   "pygments_lexer": "ipython3",
   "version": "3.7.6"
  }
 },
 "nbformat": 4,
 "nbformat_minor": 4
}
