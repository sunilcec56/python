{
 "cells": [
  {
   "cell_type": "markdown",
   "metadata": {},
   "source": [
    "Create a Sphere class that accepts a radius upon instantiation and has a volume and surface area method."
   ]
  },
  {
   "cell_type": "code",
   "execution_count": 136,
   "metadata": {},
   "outputs": [],
   "source": [
    "class Sphere():\n",
    "    \n",
    "    def __init__(self,radius,color='red'):\n",
    "        self.radius = radius\n",
    "        self.color= color\n",
    "        \n",
    "    def volume(self):\n",
    "       # vol = (4/3)*3.14*self.radius*self.radius*self.radius\n",
    "        vol = (4/3)*3.14*self.radius**3\n",
    "        print('Volume of sphere = {:.2f}'.format(vol))\n",
    "        return vol\n",
    "    def surface(self):\n",
    "        sarea = 4*3.14*self.radius**2\n",
    "        print('Surface area of sphere = {:.2f}'.format(sarea))\n",
    "        return sarea\n",
    "\n"
   ]
  },
  {
   "cell_type": "code",
   "execution_count": 137,
   "metadata": {},
   "outputs": [],
   "source": [
    "x=Sphere(2,'blue')"
   ]
  },
  {
   "cell_type": "code",
   "execution_count": 138,
   "metadata": {},
   "outputs": [],
   "source": [
    "s=Sphere(3)"
   ]
  },
  {
   "cell_type": "code",
   "execution_count": 131,
   "metadata": {},
   "outputs": [
    {
     "data": {
      "text/plain": [
       "'blue'"
      ]
     },
     "execution_count": 131,
     "metadata": {},
     "output_type": "execute_result"
    }
   ],
   "source": [
    "x.color\n"
   ]
  },
  {
   "cell_type": "code",
   "execution_count": 139,
   "metadata": {},
   "outputs": [
    {
     "name": "stdout",
     "output_type": "stream",
     "text": [
      "Surface area of sphere = 50.24\n"
     ]
    },
    {
     "data": {
      "text/plain": [
       "50.24"
      ]
     },
     "execution_count": 139,
     "metadata": {},
     "output_type": "execute_result"
    }
   ],
   "source": [
    "x.surface()"
   ]
  },
  {
   "cell_type": "code",
   "execution_count": null,
   "metadata": {},
   "outputs": [],
   "source": []
  },
  {
   "cell_type": "code",
   "execution_count": 140,
   "metadata": {},
   "outputs": [
    {
     "name": "stdout",
     "output_type": "stream",
     "text": [
      "Surface area of sphere = 113.04\n"
     ]
    },
    {
     "data": {
      "text/plain": [
       "113.04"
      ]
     },
     "execution_count": 140,
     "metadata": {},
     "output_type": "execute_result"
    }
   ],
   "source": [
    "s.surface()"
   ]
  },
  {
   "cell_type": "code",
   "execution_count": 133,
   "metadata": {},
   "outputs": [
    {
     "name": "stdout",
     "output_type": "stream",
     "text": [
      "Surface area of sphere = 113.04\n"
     ]
    },
    {
     "data": {
      "text/plain": [
       "113.04"
      ]
     },
     "execution_count": 133,
     "metadata": {},
     "output_type": "execute_result"
    }
   ],
   "source": [
    "s.surface()"
   ]
  },
  {
   "cell_type": "code",
   "execution_count": 134,
   "metadata": {},
   "outputs": [
    {
     "data": {
      "text/plain": [
       "'red'"
      ]
     },
     "execution_count": 134,
     "metadata": {},
     "output_type": "execute_result"
    }
   ],
   "source": [
    "s.color"
   ]
  },
  {
   "cell_type": "code",
   "execution_count": 143,
   "metadata": {},
   "outputs": [
    {
     "name": "stdout",
     "output_type": "stream",
     "text": [
      "Surface area of sphere = 50.24\n",
      "Surface area of sphere = 113.04\n",
      "value  163.28\n"
     ]
    }
   ],
   "source": [
    "y=x.surface()\n",
    "z= s.surface()\n",
    "print('value ',y+z)"
   ]
  },
  {
   "cell_type": "code",
   "execution_count": 205,
   "metadata": {},
   "outputs": [],
   "source": [
    "class Sphere():\n",
    "    \n",
    "    def __init__(self,radius=1,color='red'):\n",
    "        self.radius = radius\n",
    "        self.color= color\n",
    "        \n",
    "    def volume(self):\n",
    "       # vol = (4/3)*3.14*self.radius*self.radius*self.radius\n",
    "        vol = (4/3)*3.14*self.radius**3\n",
    "        print('Volume of sphere = {:.2f}'.format(vol))\n",
    "        return vol\n",
    "    \n",
    "    \n",
    "class Sphere1(Sphere):\n",
    "    \n",
    "    def __init__(self,radius=3,color='dddd',cost=2):\n",
    "        Sphere.__init__(self,radius,color)\n",
    "        \n",
    "       # self.radius = radius\n",
    "        #self.color= color\n",
    "        self.cost=cost\n",
    "        \n",
    "    \n",
    "        \n",
    "    def surface(self):\n",
    "        sarea = 4*3.14*self.radius**2\n",
    "        print('Surface area of sphere = {:.2f}'.format(sarea))\n",
    "        return sarea\n",
    "    \n",
    "    "
   ]
  },
  {
   "cell_type": "code",
   "execution_count": 206,
   "metadata": {},
   "outputs": [],
   "source": [
    "s=Sphere()\n",
    "s1=Sphere1(cost=1000)"
   ]
  },
  {
   "cell_type": "code",
   "execution_count": 193,
   "metadata": {},
   "outputs": [],
   "source": [
    " def __init__(self,first_name,last_name,code_name):\n",
    "        Person.__init__(self,first_name,last_name)\n",
    "        self.code_name = code_name"
   ]
  },
  {
   "cell_type": "code",
   "execution_count": 203,
   "metadata": {},
   "outputs": [
    {
     "data": {
      "text/plain": [
       "'dddd'"
      ]
     },
     "execution_count": 203,
     "metadata": {},
     "output_type": "execute_result"
    }
   ],
   "source": [
    "s1.color"
   ]
  },
  {
   "cell_type": "code",
   "execution_count": 207,
   "metadata": {},
   "outputs": [
    {
     "data": {
      "text/plain": [
       "1000"
      ]
     },
     "execution_count": 207,
     "metadata": {},
     "output_type": "execute_result"
    }
   ],
   "source": [
    "s1.cost"
   ]
  },
  {
   "cell_type": "code",
   "execution_count": null,
   "metadata": {},
   "outputs": [],
   "source": []
  }
 ],
 "metadata": {
  "kernelspec": {
   "display_name": "Python 3",
   "language": "python",
   "name": "python3"
  },
  "language_info": {
   "codemirror_mode": {
    "name": "ipython",
    "version": 3
   },
   "file_extension": ".py",
   "mimetype": "text/x-python",
   "name": "python",
   "nbconvert_exporter": "python",
   "pygments_lexer": "ipython3",
   "version": "3.7.6"
  }
 },
 "nbformat": 4,
 "nbformat_minor": 4
}
