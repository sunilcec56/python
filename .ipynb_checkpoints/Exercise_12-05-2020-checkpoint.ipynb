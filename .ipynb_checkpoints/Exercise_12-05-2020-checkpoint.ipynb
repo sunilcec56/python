{
 "cells": [
  {
   "cell_type": "markdown",
   "metadata": {},
   "source": [
    "Exercise 141: Display the Head of a File\n",
    "(Solved—40 Lines)\n",
    "Unix-based operating systems usually include a tool named head. It displays the\n",
    "first 10 lines of a file whose name is provided as a command line parameter. Write\n",
    "a Python program that provides the same behavior. Display an appropriate error\n",
    "message if the file requested by the user does not exist or if the command line\n",
    "parameter is omitted."
   ]
  },
  {
   "cell_type": "markdown",
   "metadata": {},
   "source": [
    "Exercise 142: Display the Tail of a File\n",
    "Unix-based operating systems also typically include a tool named tail. It displays\n",
    "the last 10 lines of a file whose name is provided as a command line parameter.\n",
    "Write a Python program that provides the same behavior. Display an appropriate\n",
    "error message if the file requested by the user does not exist or if the command line\n",
    "parameter is omitted.\n",
    "There are several different approaches that can be taken to solve this problem.\n",
    "One option is to load the entire contents of the file into a list and then display the\n",
    "last 10 elements. Another option is to read the contents of the file twice, once to\n",
    "count the lines, and a second time to display the last 10 lines. However, both of these\n",
    "solutions are undesirable when working with large files. Another solution exists that\n",
    "only requires you to read the file once, and only requires you to store 10 lines from\n",
    "the file at one time. For an added challenge, develop such a solution.\n",
    "Exercise 143:"
   ]
  },
  {
   "cell_type": "code",
   "execution_count": null,
   "metadata": {},
   "outputs": [],
   "source": []
  },
  {
   "cell_type": "code",
   "execution_count": null,
   "metadata": {},
   "outputs": [],
   "source": [
    "with open('test.txt', 'w+') as x:\n",
    "    for i in range(1,31):\n",
    "        x.write(' this is line no : {} \\n'.format(i))\n",
    "    \n",
    "        x.seek(0)\n",
    "        li=x.read()\n",
    "#x.close()\n",
    "print(li)\n",
    "type(li)\n",
    "z=li.split(\"\\n\")\n",
    "\n",
    "def head(filename,z,num):\n",
    "    import os.path\n",
    "    if os.path.isfile(filename)==False:\n",
    "        print('file does not exist')\n",
    "    elif num>=len(z):\n",
    "        print('Index out of range')\n",
    "        #return 'error'\n",
    "    else:\n",
    "        for each in range(0,num):\n",
    "             print (z[each])\n",
    "\n",
    "\n",
    "def tail(filename,z,num):\n",
    "    import os.path\n",
    "    if os.path.isfile(filename)==False:\n",
    "        print('file does not exist')\n",
    "    elif num>=len(z):\n",
    "        print('Index out of range')\n",
    "        #return 'error'\n",
    "    else:\n",
    "        for each in range(-num-1,-1):\n",
    "             print (z[each])\n",
    "       "
   ]
  },
  {
   "cell_type": "code",
   "execution_count": 2,
   "metadata": {},
   "outputs": [
    {
     "name": "stdout",
     "output_type": "stream",
     "text": [
      " this is line no : 1 \n",
      " this is line no : 2 \n",
      " this is line no : 3 \n",
      " this is line no : 4 \n",
      " this is line no : 5 \n",
      " this is line no : 6 \n",
      " this is line no : 7 \n",
      " this is line no : 8 \n",
      " this is line no : 9 \n",
      " this is line no : 10 \n"
     ]
    }
   ],
   "source": [
    "head('test.txt',z,10)"
   ]
  },
  {
   "cell_type": "code",
   "execution_count": 3,
   "metadata": {},
   "outputs": [
    {
     "name": "stdout",
     "output_type": "stream",
     "text": [
      " this is line no : 21 \n",
      " this is line no : 22 \n",
      " this is line no : 23 \n",
      " this is line no : 24 \n",
      " this is line no : 25 \n",
      " this is line no : 26 \n",
      " this is line no : 27 \n",
      " this is line no : 28 \n",
      " this is line no : 29 \n",
      " this is line no : 30 \n"
     ]
    }
   ],
   "source": [
    "tail('test.txt',z,10)"
   ]
  },
  {
   "cell_type": "code",
   "execution_count": null,
   "metadata": {},
   "outputs": [],
   "source": []
  }
 ],
 "metadata": {
  "kernelspec": {
   "display_name": "Python 3",
   "language": "python",
   "name": "python3"
  },
  "language_info": {
   "codemirror_mode": {
    "name": "ipython",
    "version": 3
   },
   "file_extension": ".py",
   "mimetype": "text/x-python",
   "name": "python",
   "nbconvert_exporter": "python",
   "pygments_lexer": "ipython3",
   "version": "3.7.6"
  }
 },
 "nbformat": 4,
 "nbformat_minor": 4
}
