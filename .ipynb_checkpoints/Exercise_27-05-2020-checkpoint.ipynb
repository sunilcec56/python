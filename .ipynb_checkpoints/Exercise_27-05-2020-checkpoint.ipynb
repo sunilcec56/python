{
 "cells": [
  {
   "cell_type": "markdown",
   "metadata": {},
   "source": [
    "Create a Rectangle class that accepts a L,w,h  upon instantiation and has a volume and surface area method."
   ]
  },
  {
   "cell_type": "markdown",
   "metadata": {},
   "source": []
  },
  {
   "cell_type": "code",
   "execution_count": 2,
   "metadata": {},
   "outputs": [],
   "source": [
    "class Rectangle():\n",
    "    def __init__ (self,leng=1,wid=2,heg=3,att=4,long=5):\n",
    "        self.leng=leng\n",
    "        self.wid=wid\n",
    "        self.heg=heg\n",
    "        self.att=att\n",
    "        self.long=long\n",
    "        #rint(\"Init of Rectangle Class\")\n",
    "       ##rint ('Default length is : ', self.leng)\n",
    "        #rint ('Default wid is : ', self.wid)\n",
    "        #rint ('Default heg is : ', self.heg)\n",
    "    def vol(self):\n",
    "        vol=self.leng*self.wid*self.heg\n",
    "        print('Volume of rectangle = {:.2f} cubic unit' .format(vol))\n",
    "        return vol\n",
    "    def sur_area(self):\n",
    "        s_area=2*self.leng*self.wid+2*self.wid*self.heg+2*self.heg*self.leng\n",
    "        print('Surface area of rectangle = {:.2f} sq unit'.format(s_area))\n",
    "        return s_area\n",
    "    \n",
    "    \n",
    "class Sphere():\n",
    "    \n",
    "    def __init__(self,radius=6,color='Black',oppcolor='white',col1='Black-1',col2='White-1'):\n",
    "        self.radius = radius\n",
    "        self.color= color\n",
    "        self.oppcolor= oppcolor\n",
    "        self.col1=col1\n",
    "        self.col2=col2\n",
    "        #radius=4\n",
    "        #color='Red'\n",
    "        #pint(\"Init of Sphere Class\")\n",
    "        #self.color=\"RED\"\n",
    "        #self.color=\"over ride\"\n",
    "        #rint ('Default radius is : ', self.radius)\n",
    "        #rint ('Default color is : ',self.color)\n",
    "        #rint ('Default Opposite-color is : ',self.oppcolor)\n",
    "    def volume(self):\n",
    "       # vol = (4/3)*3.14*self.radius*self.radius*self.radius\n",
    "        vol = (4/3)*3.14*self.radius**3\n",
    "        print('Volume of sphere = {:.2f}'.format(vol))\n",
    "        return vol\n",
    "    def surface(self):\n",
    "        sarea = 4*3.14*self.radius**2\n",
    "        print('Surface area of sphere = {:.2f}'.format(sarea))\n",
    "        return sarea\n",
    "    "
   ]
  },
  {
   "cell_type": "code",
   "execution_count": 81,
   "metadata": {
    "scrolled": true
   },
   "outputs": [],
   "source": [
    "r=Rectangle(heg=33333,leng=90)"
   ]
  },
  {
   "cell_type": "code",
   "execution_count": 82,
   "metadata": {},
   "outputs": [],
   "source": [
    "s=Sphere()"
   ]
  },
  {
   "cell_type": "code",
   "execution_count": 4,
   "metadata": {},
   "outputs": [],
   "source": [
    "class Rect1(Rectangle,Sphere):\n",
    "   # def __init__ (self,color,leng=1,wid=1,heg=1,radius=1):\n",
    "    def __init__ (self):\n",
    "        #print(\"Init of Rect1 Class\")\n",
    "        #Rectangle.__init__ (self,heg,att,long)\n",
    "        #Sphere.__init__(self,color,oppcolor,col1,col2)\n",
    "        '''\n",
    "        Like below we need to pass the arguments to child from parent class to inherit attribute\n",
    "        values\n",
    "        ex :-   \n",
    "                Parent Class attribute values in child class\n",
    "                Rectangle.__init__ (self,wid=44,leng=0,heg=33333)\n",
    "                Sphere.__init__(self,oppcolor='fff')\n",
    "            and \n",
    "                child class attribute initation to be null\n",
    "        '''\n",
    "        \n",
    "        Rectangle.__init__ (self,leng=445,heg=4443) ##If only attribute is passed without value \n",
    "        # than by default it assigns to first attribute of the parent class\n",
    "        \n",
    "        Sphere.__init__(self,oppcolor='sxcdx')\n",
    "        #If only attribute is passed without value \n",
    "        # than by default it assigns to first attribute of the parent class\n",
    "        \n",
    "        print('\\n')\n",
    "        print ('length is           : ', self.leng)\n",
    "        print ('wid is              : ',self.wid)\n",
    "        print ('heg is              : ',self.heg)\n",
    "        print ('Attitude is         : ',self.att)\n",
    "        print ('Longitude is        : ',self.long)\n",
    "        print ('radius is           : ',self.radius)\n",
    "        print ('color is            : ',self.color)\n",
    "        print ('Opposite-color is   : ',self.oppcolor)\n",
    "        print ('Color-1 is          : ',self.col1)\n",
    "        print ('Color-2 is          : ',self.col2)\n",
    "    def _myp(self):\n",
    "        print ('My Private Method')"
   ]
  },
  {
   "cell_type": "code",
   "execution_count": 5,
   "metadata": {},
   "outputs": [
    {
     "name": "stdout",
     "output_type": "stream",
     "text": [
      "\n",
      "\n",
      "length is           :  445\n",
      "wid is              :  2\n",
      "heg is              :  4443\n",
      "Attitude is         :  4\n",
      "Longitude is        :  5\n",
      "radius is           :  6\n",
      "color is            :  Black\n",
      "Opposite-color is   :  sxcdx\n",
      "Color-1 is          :  Black-1\n",
      "Color-2 is          :  White-1\n"
     ]
    }
   ],
   "source": [
    "c =Rect1()"
   ]
  },
  {
   "cell_type": "code",
   "execution_count": 6,
   "metadata": {},
   "outputs": [
    {
     "data": {
      "text/plain": [
       "'dddd'"
      ]
     },
     "execution_count": 6,
     "metadata": {},
     "output_type": "execute_result"
    }
   ],
   "source": [
    "c.color"
   ]
  },
  {
   "cell_type": "code",
   "execution_count": 7,
   "metadata": {},
   "outputs": [
    {
     "ename": "SyntaxError",
     "evalue": "invalid syntax (<ipython-input-7-3e1be644fd2c>, line 1)",
     "output_type": "error",
     "traceback": [
      "\u001b[1;36m  File \u001b[1;32m\"<ipython-input-7-3e1be644fd2c>\"\u001b[1;36m, line \u001b[1;32m1\u001b[0m\n\u001b[1;33m    r.\u001b[0m\n\u001b[1;37m      ^\u001b[0m\n\u001b[1;31mSyntaxError\u001b[0m\u001b[1;31m:\u001b[0m invalid syntax\n"
     ]
    }
   ],
   "source": [
    "r."
   ]
  },
  {
   "cell_type": "code",
   "execution_count": null,
   "metadata": {},
   "outputs": [],
   "source": []
  },
  {
   "cell_type": "code",
   "execution_count": 23,
   "metadata": {},
   "outputs": [],
   "source": [
    "##3333333333333333333333333\n",
    "\n",
    "class Rect1(Rectangle,Sphere):\n",
    "   # def __init__ (self,color,leng=1,wid=1,heg=1,radius=1):\n",
    "    def __init__ (self,oppcolor):\n",
    "        #print(\"Init of Rect1 Class\")\n",
    "        #Rectangle.__init__ (self,heg,att,long)\n",
    "        #Sphere.__init__(self,color,oppcolor,col1,col2)\n",
    "        '''\n",
    "        Like below we need to pass the arguments to child from parent class to inherit attribute\n",
    "        values\n",
    "        ex :-   \n",
    "                Parent Class attribute values in child class\n",
    "                Rectangle.__init__ (self,wid=44,leng=0,heg=33333)\n",
    "                Sphere.__init__(self,oppcolor='fff')\n",
    "            and \n",
    "                child class attribute initation to be null\n",
    "        '''\n",
    "        \n",
    "        Rectangle.__init__ (self) ##If only attribute is passed without value \n",
    "        # than by default it assigns to first attribute of the parent class\n",
    "        \n",
    "        Sphere.__init__(self,oppcolor)\n",
    "        #If only attribute is passed without value='gg' \n",
    "        # than by default it assigns to first attribute of the parent class\n",
    "        \n",
    "        print('\\n')\n",
    "        print ('length is           : ', self.leng)\n",
    "        print ('wid is              : ',self.wid)\n",
    "        print ('heg is              : ',self.heg)\n",
    "        print ('Attitude is         : ',self.att)\n",
    "        print ('Longitude is        : ',self.long)\n",
    "        print ('radius is           : ',self.radius)\n",
    "        print ('color is            : ',self.color)\n",
    "        print ('Opposite-color is   : ',self.oppcolor)\n",
    "        print ('Color-1 is          : ',self.col1)\n",
    "        print ('Color-2 is          : ',self.col2)\n",
    "    def _myp(self):\n",
    "        print ('My Private Method')"
   ]
  },
  {
   "cell_type": "code",
   "execution_count": 24,
   "metadata": {},
   "outputs": [
    {
     "name": "stdout",
     "output_type": "stream",
     "text": [
      "\n",
      "\n",
      "length is           :  1\n",
      "wid is              :  2\n",
      "heg is              :  3\n",
      "Attitude is         :  4\n",
      "Longitude is        :  5\n",
      "radius is           :  ggg\n",
      "color is            :  Black\n",
      "Opposite-color is   :  white\n",
      "Color-1 is          :  Black-1\n",
      "Color-2 is          :  White-1\n"
     ]
    }
   ],
   "source": [
    "d=Rect1(oppcolor='ggg')"
   ]
  },
  {
   "cell_type": "code",
   "execution_count": null,
   "metadata": {},
   "outputs": [],
   "source": []
  },
  {
   "cell_type": "code",
   "execution_count": null,
   "metadata": {},
   "outputs": [],
   "source": []
  },
  {
   "cell_type": "code",
   "execution_count": null,
   "metadata": {},
   "outputs": [],
   "source": []
  },
  {
   "cell_type": "code",
   "execution_count": null,
   "metadata": {},
   "outputs": [],
   "source": []
  }
 ],
 "metadata": {
  "kernelspec": {
   "display_name": "Python 3",
   "language": "python",
   "name": "python3"
  },
  "language_info": {
   "codemirror_mode": {
    "name": "ipython",
    "version": 3
   },
   "file_extension": ".py",
   "mimetype": "text/x-python",
   "name": "python",
   "nbconvert_exporter": "python",
   "pygments_lexer": "ipython3",
   "version": "3.7.6"
  }
 },
 "nbformat": 4,
 "nbformat_minor": 4
}
