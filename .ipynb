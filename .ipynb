{
 "cells": [
  {
   "cell_type": "markdown",
   "metadata": {},
   "source": [
    "Exercise 67:Admission Price\n",
    "(Solved—38 Lines)\n",
    "\n",
    "A particular zoo determines the price of admission based on the age of the guest.\n",
    "Guests 2 years of age and less are admitted without charge. Children between 3 and\n",
    "12 years of age cost $14.00. Seniors aged 65 years and over cost $18.00. Admission\n",
    "for all other guests is $23.00.\n",
    "Create a program that begins by reading the ages of all of the guests in a group\n",
    "from the user, with one age entered on each line. The user will enter a blank line to\n",
    "indicate that there are no more guests in the group. Then your program should display\n",
    "the admission cost for the group with an appropriate message. The cost should be\n",
    "displayed using two decimal places."
   ]
  },
  {
   "cell_type": "code",
   "execution_count": 1,
   "metadata": {},
   "outputs": [
    {
     "name": "stdout",
     "output_type": "stream",
     "text": [
      "Enter age : 2\n",
      "Enter age : 5\n",
      "Enter age : 15\n",
      "Enter age : 65\n",
      "Enter age : \n",
      "\n",
      " Age under 2 = 1 No fees  \n",
      " Age 2 to 12 = 1 x $14 \n",
      " Age 12 to 65 = 1x $23 \n",
      " Age above 65 = 1x $18 \n",
      "Total cost = $ 55.00\n"
     ]
    }
   ],
   "source": [
    "age=0\n",
    "charge=0\n",
    "c1=0\n",
    "c2=0\n",
    "c3=0\n",
    "c4=0\n",
    "age= input('Enter age : ')\n",
    "while age != '':\n",
    "    age=int(age)\n",
    "    if age<=2:\n",
    "        charge+=0\n",
    "        c1+=1  \n",
    "    elif age >=3 and age <= 12:\n",
    "        charge+= 14\n",
    "        c2+=1\n",
    "    elif age>12 and age<65:\n",
    "        charge+=23\n",
    "        c3+=1\n",
    "    elif age>=65:\n",
    "        charge+=18\n",
    "        c4+=1\n",
    "    \n",
    "    age= input('Enter age : ')\n",
    "\n",
    "print('\\n Age under 2 = {} No fees  \\n Age 2 to 12 = {} x $14 \\n Age 12 to 65 = {}x $23 \\n Age above 65 = {}x $18 '.format(c1,c2,c3,c4))\n",
    "print('Total cost = $ {:.2f}' .format(charge))"
   ]
  },
  {
   "cell_type": "code",
   "execution_count": 15,
   "metadata": {},
   "outputs": [
    {
     "name": "stdout",
     "output_type": "stream",
     "text": [
      "Enter age : 2\n",
      "Enter age : 5\n",
      "Enter age : 15\n",
      "Enter age : 68\n",
      "Enter age : 5\n",
      "Enter age : \n",
      "\n",
      " Age under 2 = 2 No fees  \n",
      " Age 2 to 12 = 2 x $14 \n",
      " Age 12 to 65 = 1x $23 \n",
      " Age above 65 = 1x $18 \n",
      "Total cost = $ 69.00\n"
     ]
    }
   ],
   "source": [
    "age=0\n",
    "charge=0\n",
    "c1=0\n",
    "c2=0\n",
    "c3=0\n",
    "c4=0\n",
    "while age != '':\n",
    "    age=int(age)\n",
    "    #age= int(input('Enter age : '))\n",
    "    if age<=2:\n",
    "        charge+=0\n",
    "        c1+=1  \n",
    "    elif age >=3 and age <= 12:\n",
    "        charge+= 14\n",
    "        c2+=1\n",
    "    elif age>12 and age<65:\n",
    "        charge+=23\n",
    "        c3+=1\n",
    "    elif age>=65:\n",
    "        charge+=18\n",
    "        c4+=1\n",
    "    age=input('Enter age : ')\n",
    "    \n",
    "print('\\n Age under 2 = {} No fees  \\n Age 2 to 12 = {} x $14 \\n Age 12 to 65 = {}x $23 \\n Age above 65 = {}x $18 '.format(c1,c2,c3,c4))\n",
    "print('Total cost = $ {:.2f}' .format(charge))"
   ]
  },
  {
   "cell_type": "markdown",
   "metadata": {},
   "source": [
    "Exercise 104: Sorted Order\n",
    "(Solved—21 Lines)\n",
    "Write a program that reads integers from the user and stores them in a list. Your\n",
    "program should continue reading values until the user enters 0. Then it should display\n",
    "all of the values entered by the user (except for the 0) in order from smallest to largest,\n",
    "with one value appearing on each line. Use either the sort method or the sorted\n",
    "function to sort the list."
   ]
  },
  {
   "cell_type": "code",
   "execution_count": 6,
   "metadata": {},
   "outputs": [
    {
     "name": "stdout",
     "output_type": "stream",
     "text": [
      "1\n",
      "2\n",
      "3\n",
      "4\n",
      "5\n",
      "0\n",
      "[5, 4, 3, 2, 1]\n",
      "5\n",
      "4\n",
      "3\n",
      "2\n",
      "1\n"
     ]
    }
   ],
   "source": [
    "a = int(input())\n",
    "ls=[]\n",
    "\n",
    "while a!=0:\n",
    "    ls.append(a)\n",
    "    a= int(input())\n",
    "ls.reverse()\n",
    "print(ls)\n",
    "for i in ls:\n",
    "    print(i)\n",
    "    "
   ]
  },
  {
   "cell_type": "code",
   "execution_count": 7,
   "metadata": {},
   "outputs": [
    {
     "data": {
      "text/plain": [
       "[5, 4, 3, 2, 1]"
      ]
     },
     "execution_count": 7,
     "metadata": {},
     "output_type": "execute_result"
    }
   ],
   "source": [
    "ls"
   ]
  },
  {
   "cell_type": "code",
   "execution_count": 4,
   "metadata": {},
   "outputs": [
    {
     "data": {
      "text/plain": [
       "'BANESH'"
      ]
     },
     "execution_count": 4,
     "metadata": {},
     "output_type": "execute_result"
    }
   ],
   "source": [
    "a=\"banesh\"\n",
    "a.upper()"
   ]
  },
  {
   "cell_type": "code",
   "execution_count": 5,
   "metadata": {},
   "outputs": [
    {
     "data": {
      "text/plain": [
       "'banesh'"
      ]
     },
     "execution_count": 5,
     "metadata": {},
     "output_type": "execute_result"
    }
   ],
   "source": [
    "a\n",
    "        "
   ]
  },
  {
   "cell_type": "code",
   "execution_count": 8,
   "metadata": {},
   "outputs": [
    {
     "ename": "SyntaxError",
     "evalue": "invalid syntax (<ipython-input-8-7db362ebb46c>, line 2)",
     "output_type": "error",
     "traceback": [
      "\u001b[1;36m  File \u001b[1;32m\"<ipython-input-8-7db362ebb46c>\"\u001b[1;36m, line \u001b[1;32m2\u001b[0m\n\u001b[1;33m    3\u001b[0m\n\u001b[1;37m    ^\u001b[0m\n\u001b[1;31mSyntaxError\u001b[0m\u001b[1;31m:\u001b[0m invalid syntax\n"
     ]
    }
   ],
   "source": [
    "ls = [2\n",
    "     3\n",
    "     4\n",
    "     5\n",
    "     6\n",
    "     ]"
   ]
  },
  {
   "cell_type": "code",
   "execution_count": 30,
   "metadata": {},
   "outputs": [],
   "source": [
    "ls =[1,5,4,3,45,2]"
   ]
  },
  {
   "cell_type": "code",
   "execution_count": 25,
   "metadata": {},
   "outputs": [],
   "source": [
    "a=ls.reverse()\n"
   ]
  },
  {
   "cell_type": "code",
   "execution_count": 28,
   "metadata": {},
   "outputs": [],
   "source": [
    "s=ls.sort()"
   ]
  },
  {
   "cell_type": "code",
   "execution_count": 17,
   "metadata": {},
   "outputs": [
    {
     "data": {
      "text/plain": [
       "[1, 5, 4, 3, 45, 2]"
      ]
     },
     "execution_count": 17,
     "metadata": {},
     "output_type": "execute_result"
    }
   ],
   "source": []
  },
  {
   "cell_type": "code",
   "execution_count": 34,
   "metadata": {},
   "outputs": [
    {
     "data": {
      "text/plain": [
       "[2, 45, 3, 4, 5, 1]"
      ]
     },
     "execution_count": 34,
     "metadata": {},
     "output_type": "execute_result"
    }
   ],
   "source": [
    "ls"
   ]
  },
  {
   "cell_type": "code",
   "execution_count": 32,
   "metadata": {},
   "outputs": [],
   "source": [
    "a=ls.reverse()"
   ]
  },
  {
   "cell_type": "markdown",
   "metadata": {},
   "source": [
    "In this exercise, you will create a program that reads words from the user until the\n",
    "user enters a blank line. After the user enters a blank line your program should display\n",
    "each word entered by the user exactly once. The words should be displayed in\n",
    "the same order that they were entered. For example, if the user enters:\n",
    "first\n",
    "second\n",
    "first\n",
    "third\n",
    "second\n",
    "then your program should display:\n",
    "first\n",
    "second\n",
    "third\n",
    "Exercise"
   ]
  },
  {
   "cell_type": "code",
   "execution_count": 36,
   "metadata": {},
   "outputs": [
    {
     "name": "stdout",
     "output_type": "stream",
     "text": [
      "b\n",
      "c\n",
      "a\n",
      "b\n",
      "\n",
      "a\n",
      "c\n",
      "b\n"
     ]
    }
   ],
   "source": [
    "a = (input())\n",
    "ls=[]\n",
    "\n",
    "while a!='':\n",
    "    ls.append(a)\n",
    "    a= (input())\n",
    "#ls.reverse()\n",
    "se=set(ls)\n",
    "for i in se:\n",
    "    print(i)\n",
    "#print(set(ls))"
   ]
  },
  {
   "cell_type": "code",
   "execution_count": 8,
   "metadata": {},
   "outputs": [
    {
     "name": "stdout",
     "output_type": "stream",
     "text": [
      "2\n",
      "1\n",
      "2\n",
      "3\n",
      "4\n",
      "0\n",
      "\n",
      "['2', '1', '2', '3', '4', '0']\n",
      "['0', '1', '2', '2', '3', '4']\n"
     ]
    }
   ],
   "source": [
    "a=input()\n",
    "x=[]\n",
    "\n",
    "while a!='':\n",
    "    x.append(a)\n",
    "    a=input()\n",
    "    \n",
    "print(x)\n",
    "z=x.copy()\n",
    "z.sort()\n",
    "print(z)\n",
    "#x\n"
   ]
  },
  {
   "cell_type": "code",
   "execution_count": 7,
   "metadata": {},
   "outputs": [
    {
     "data": {
      "text/plain": [
       "['0', '1', '2', '3', '3']"
      ]
     },
     "execution_count": 7,
     "metadata": {},
     "output_type": "execute_result"
    }
   ],
   "source": [
    "z"
   ]
  },
  {
   "cell_type": "code",
   "execution_count": 49,
   "metadata": {},
   "outputs": [],
   "source": []
  },
  {
   "cell_type": "code",
   "execution_count": 50,
   "metadata": {},
   "outputs": [
    {
     "data": {
      "text/plain": [
       "['a', 'a', 'b', 'e', 'z']"
      ]
     },
     "execution_count": 50,
     "metadata": {},
     "output_type": "execute_result"
    }
   ],
   "source": []
  },
  {
   "cell_type": "code",
   "execution_count": null,
   "metadata": {},
   "outputs": [],
   "source": []
  }
 ],
 "metadata": {
  "kernelspec": {
   "display_name": "Python 3",
   "language": "python",
   "name": "python3"
  },
  "language_info": {
   "codemirror_mode": {
    "name": "ipython",
    "version": 3
   },
   "file_extension": ".py",
   "mimetype": "text/x-python",
   "name": "python",
   "nbconvert_exporter": "python",
   "pygments_lexer": "ipython3",
   "version": "3.7.6"
  }
 },
 "nbformat": 4,
 "nbformat_minor": 4
}
