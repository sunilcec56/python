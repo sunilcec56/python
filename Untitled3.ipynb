{
 "cells": [
  {
   "cell_type": "markdown",
   "metadata": {},
   "source": [
    "Exercise 165: Greatest Common Divisor\n",
    "(24 Lines)\n",
    "Euclid was a Greek mathematician who lived approximately 2,300 years ago. His\n",
    "algorithm for computing the greatest common divisor of two positive integers, a and\n",
    "b, is both efficient and recursive. It is outlined below:\n",
    "If b is 0 then\n",
    "Return a\n",
    "Else\n",
    "Set c equal to the remainder when a is divided by b\n",
    "Return the greatest common divisor of b and c\n",
    "Write a program that implements Euclid’s algorithm and uses it to determine the\n",
    "greatest common divisor of two integers entered by the user."
   ]
  },
  {
   "cell_type": "code",
   "execution_count": 26,
   "metadata": {},
   "outputs": [
    {
     "name": "stdout",
     "output_type": "stream",
     "text": [
      "0\n",
      "-0\n",
      "Gcd is  0\n"
     ]
    }
   ],
   "source": [
    "#a=int(input())\n",
    "#b=int(input())\n",
    "def gcd(a,b):\n",
    "    if b==0:\n",
    "        return a\n",
    "    return gcd(b,a%b)\n",
    "print('Gcd is ',gcd(a=int(input()),b=int(input())))"
   ]
  },
  {
   "cell_type": "code",
   "execution_count": null,
   "metadata": {},
   "outputs": [],
   "source": []
  },
  {
   "cell_type": "markdown",
   "metadata": {},
   "source": []
  },
  {
   "cell_type": "code",
   "execution_count": 9,
   "metadata": {},
   "outputs": [
    {
     "data": {
      "text/plain": [
       "12"
      ]
     },
     "execution_count": 9,
     "metadata": {},
     "output_type": "execute_result"
    }
   ],
   "source": [
    "x"
   ]
  },
  {
   "cell_type": "code",
   "execution_count": null,
   "metadata": {},
   "outputs": [],
   "source": []
  },
  {
   "cell_type": "code",
   "execution_count": 3,
   "metadata": {},
   "outputs": [
    {
     "name": "stdout",
     "output_type": "stream",
     "text": [
      "10\n",
      "3\n",
      "GCD of 10 and 3 is 1\n"
     ]
    }
   ],
   "source": [
    "def gcd(a,b): \n",
    "      \n",
    "    # Everything divides 0  \n",
    "    if (b == 0): \n",
    "         return a \n",
    "    return gcd(b, a%b) \n",
    "  \n",
    "# Driver program to test above function \n",
    "a=int(input())\n",
    "b=int(input())\n",
    "if(gcd(a, b)): \n",
    "    print('GCD of', a, 'and', b, 'is', gcd(a, b)) \n",
    "else: \n",
    "    print('not found') "
   ]
  },
  {
   "cell_type": "code",
   "execution_count": 4,
   "metadata": {},
   "outputs": [
    {
     "data": {
      "text/plain": [
       "0"
      ]
     },
     "execution_count": 4,
     "metadata": {},
     "output_type": "execute_result"
    }
   ],
   "source": [
    "0%12\n"
   ]
  },
  {
   "cell_type": "code",
   "execution_count": null,
   "metadata": {},
   "outputs": [],
   "source": []
  }
 ],
 "metadata": {
  "kernelspec": {
   "display_name": "Python 3",
   "language": "python",
   "name": "python3"
  },
  "language_info": {
   "codemirror_mode": {
    "name": "ipython",
    "version": 3
   },
   "file_extension": ".py",
   "mimetype": "text/x-python",
   "name": "python",
   "nbconvert_exporter": "python",
   "pygments_lexer": "ipython3",
   "version": "3.7.6"
  }
 },
 "nbformat": 4,
 "nbformat_minor": 4
}
