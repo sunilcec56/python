{
 "cells": [
  {
   "cell_type": "markdown",
   "metadata": {},
   "source": [
    "Exercise 143: ConcatenateMultiple Files\n",
    "(Solved—27 Lines)\n",
    "Unix-based operating systems typically include a tool named cat, which is short\n",
    "for concatenate. Its purpose is to concatenate and display one or more files whose\n",
    "names are provided as command line parameters. The files are displayed in the same\n",
    "order that they appear on the command line.\n",
    "Create a Python program that performs this task. It should generate an appropriate\n",
    "error message for any file that cannot be displayed, and then proceed to the next file.\n",
    "Display an appropriate error message if your program is started without any command\n",
    "line parameters."
   ]
  },
  {
   "cell_type": "code",
   "execution_count": 34,
   "metadata": {},
   "outputs": [],
   "source": [
    "one=open('a.txt','w+') \n",
    "for i in range(1,21):\n",
    "      one.write(\" In File 1 - line no: {} \\n\".format(i))\n",
    "one.seek(0)\n",
    "f1=one.read()\n",
    "        "
   ]
  },
  {
   "cell_type": "code",
   "execution_count": 30,
   "metadata": {},
   "outputs": [
    {
     "data": {
      "text/plain": [
       "' In File 1 - line no: 1 \\n In File 1 - line no: 2 \\n In File 1 - line no: 3 \\n In File 1 - line no: 4 \\n In File 1 - line no: 5 \\n In File 1 - line no: 6 \\n In File 1 - line no: 7 \\n In File 1 - line no: 8 \\n In File 1 - line no: 9 \\n In File 1 - line no: 10 \\n In File 1 - line no: 11 \\n In File 1 - line no: 12 \\n In File 1 - line no: 13 \\n In File 1 - line no: 14 \\n In File 1 - line no: 15 \\n In File 1 - line no: 16 \\n In File 1 - line no: 17 \\n In File 1 - line no: 18 \\n In File 1 - line no: 19 \\n In File 1 - line no: 20 \\n'"
      ]
     },
     "execution_count": 30,
     "metadata": {},
     "output_type": "execute_result"
    }
   ],
   "source": [
    "f1"
   ]
  },
  {
   "cell_type": "code",
   "execution_count": 35,
   "metadata": {},
   "outputs": [],
   "source": [
    "two= open('b.txt','w+')\n",
    "for i in range (51,61):\n",
    "    two.write('In file 2 - line no {} \\n'.format(i))\n",
    "two.seek(0)\n",
    "f2=two.read()\n",
    "        "
   ]
  },
  {
   "cell_type": "code",
   "execution_count": 12,
   "metadata": {},
   "outputs": [
    {
     "data": {
      "text/plain": [
       "'In file 2 - line no 21 \\nIn file 2 - line no 22 \\nIn file 2 - line no 23 \\nIn file 2 - line no 24 \\nIn file 2 - line no 25 \\nIn file 2 - line no 26 \\nIn file 2 - line no 27 \\nIn file 2 - line no 28 \\nIn file 2 - line no 29 \\nIn file 2 - line no 30 \\n'"
      ]
     },
     "execution_count": 12,
     "metadata": {},
     "output_type": "execute_result"
    }
   ],
   "source": [
    "f2"
   ]
  },
  {
   "cell_type": "code",
   "execution_count": 36,
   "metadata": {},
   "outputs": [],
   "source": [
    "one= open('a.txt','a+')\n",
    "one.write(f2)\n",
    "one.seek(0)\n",
    "x=one.read() "
   ]
  },
  {
   "cell_type": "code",
   "execution_count": 148,
   "metadata": {},
   "outputs": [],
   "source": [
    "import os\n",
    "def cat(f1,f2):\n",
    "    import os.path\n",
    "    if os.path.isfile(f1)==False   :\n",
    "        print('file does not exist {}'.format(f1))\n",
    "    #else:\n",
    "     #   continue\n",
    "    if os.path.isfile(f2)==False   :\n",
    "        print('file does not exist  {}'.format(f2))\n",
    "    else:\n",
    "    \n",
    "        one=open('a.txt','w+') \n",
    "        for i in range(1,21):\n",
    "            one.write(\" In File 1 - line no: {} \\n\".format(i))\n",
    "        #one.seek(0)\n",
    "        #f1=one.read()\n",
    "\n",
    "\n",
    "        two= open('b.txt','w')\n",
    "        for i in range (51,61):\n",
    "            two.write('In file 2 - line no {} \\n'.format(i))\n",
    "        two.close()\n",
    "        two=open('b.txt','r')\n",
    "        two.seek(0)\n",
    "        f2=two.read()\n",
    "\n",
    "        return one.write(f2)\n",
    "    \n",
    "   # return f1+f2"
   ]
  },
  {
   "cell_type": "code",
   "execution_count": 149,
   "metadata": {},
   "outputs": [
    {
     "name": "stdout",
     "output_type": "stream",
     "text": [
      "file does not exist  e.txt\n"
     ]
    }
   ],
   "source": [
    "x=cat('a.txt','e.txt')"
   ]
  },
  {
   "cell_type": "code",
   "execution_count": 111,
   "metadata": {},
   "outputs": [
    {
     "data": {
      "text/plain": [
       "240"
      ]
     },
     "execution_count": 111,
     "metadata": {},
     "output_type": "execute_result"
    }
   ],
   "source": [
    "x"
   ]
  },
  {
   "cell_type": "code",
   "execution_count": null,
   "metadata": {},
   "outputs": [],
   "source": []
  }
 ],
 "metadata": {
  "kernelspec": {
   "display_name": "Python 3",
   "language": "python",
   "name": "python3"
  },
  "language_info": {
   "codemirror_mode": {
    "name": "ipython",
    "version": 3
   },
   "file_extension": ".py",
   "mimetype": "text/x-python",
   "name": "python",
   "nbconvert_exporter": "python",
   "pygments_lexer": "ipython3",
   "version": "3.7.6"
  }
 },
 "nbformat": 4,
 "nbformat_minor": 4
}
