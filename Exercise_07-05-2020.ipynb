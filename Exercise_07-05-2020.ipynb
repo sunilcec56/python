{
 "cells": [
  {
   "cell_type": "markdown",
   "metadata": {},
   "source": [
    "Exercise 83: Shipping Calculator\n",
    "(23 Lines)\n",
    "An online retailer provides express shipping for many of its items at a rate of $10.95\n",
    "for the first item, and $2.95 for each subsequent item. Write a function that takes the\n",
    "number of items in the order as its only parameter. Return the shipping charge for\n",
    "the order as the function’s result. Include a main program that reads the number of\n",
    "items purchased from the user and displays the shipping charge."
   ]
  },
  {
   "cell_type": "code",
   "execution_count": 4,
   "metadata": {},
   "outputs": [
    {
     "name": "stdout",
     "output_type": "stream",
     "text": [
      "Enter :  5\n"
     ]
    },
    {
     "data": {
      "text/plain": [
       "22.75"
      ]
     },
     "execution_count": 4,
     "metadata": {},
     "output_type": "execute_result"
    }
   ],
   "source": [
    "\n",
    "def order(item):\n",
    "    if item==1:\n",
    "        return 10.95\n",
    "    else:\n",
    "        return (item-1)*2.95+10.95\n",
    "    \n",
    "it=int(input('Enter :  '))    \n",
    "order(it)  \n",
    "               \n",
    "    "
   ]
  },
  {
   "cell_type": "code",
   "execution_count": 36,
   "metadata": {},
   "outputs": [
    {
     "name": "stdout",
     "output_type": "stream",
     "text": [
      "name :1\n"
     ]
    }
   ],
   "source": [
    "def add(*name):\n",
    "    print('name :' +name[0])\n",
    "    \n",
    "add(\"1\",\"2\",\"3\")"
   ]
  },
  {
   "cell_type": "code",
   "execution_count": 37,
   "metadata": {},
   "outputs": [
    {
     "data": {
      "text/plain": [
       "'BANESH'"
      ]
     },
     "execution_count": 37,
     "metadata": {},
     "output_type": "execute_result"
    }
   ],
   "source": [
    "\"banesh\".upper()"
   ]
  },
  {
   "cell_type": "code",
   "execution_count": 38,
   "metadata": {},
   "outputs": [
    {
     "name": "stdout",
     "output_type": "stream",
     "text": [
      "name :a\n"
     ]
    }
   ],
   "source": [
    "add('a','b','c','d')"
   ]
  },
  {
   "cell_type": "code",
   "execution_count": 39,
   "metadata": {},
   "outputs": [
    {
     "ename": "NameError",
     "evalue": "name 'arg' is not defined",
     "output_type": "error",
     "traceback": [
      "\u001b[1;31m---------------------------------------------------------------------------\u001b[0m",
      "\u001b[1;31mNameError\u001b[0m                                 Traceback (most recent call last)",
      "\u001b[1;32m<ipython-input-39-c752e686a1bc>\u001b[0m in \u001b[0;36m<module>\u001b[1;34m\u001b[0m\n\u001b[1;32m----> 1\u001b[1;33m \u001b[0marg\u001b[0m\u001b[1;33m\u001b[0m\u001b[1;33m\u001b[0m\u001b[0m\n\u001b[0m",
      "\u001b[1;31mNameError\u001b[0m: name 'arg' is not defined"
     ]
    }
   ],
   "source": [
    "arg()"
   ]
  },
  {
   "cell_type": "markdown",
   "metadata": {},
   "source": [
    "Exercise 84: Median of Three Values\n",
    "(Solved—42 Lines)\n",
    "Write a function that takes three numbers as parameters, and returns the median value\n",
    "of those parameters as its result. Include a main program that reads three values from\n",
    "the user and displays their median.\n",
    "Hint: The median value is the middle of the three values when they are sorted\n",
    "into ascending order. It can be found using if statements, or with a little bit of\n",
    "mathematical creativity."
   ]
  },
  {
   "cell_type": "code",
   "execution_count": 89,
   "metadata": {},
   "outputs": [],
   "source": [
    "#it1=int(input('Enter :  ')) \n",
    "#it2=int(input('Enter :  ')) \n",
    "#it3=int(input('Enter :  ')) \n",
    "ls=[]\n",
    "#  ls=[] for i in input: ls.append(i)\n",
    "def med(*argv):\n",
    "    for i in argv :    \n",
    "        ls.append(i)\n",
    "        ls.sort() \n",
    "        m=len(ls)\n",
    "        n=m//2\n",
    "    return ls[n]\n",
    "#print(len(ls))        "
   ]
  },
  {
   "cell_type": "code",
   "execution_count": 90,
   "metadata": {},
   "outputs": [
    {
     "data": {
      "text/plain": [
       "5"
      ]
     },
     "execution_count": 90,
     "metadata": {},
     "output_type": "execute_result"
    }
   ],
   "source": [
    "med(122325,2,3,4000,5,6,1,2,3,4558,5,6)"
   ]
  },
  {
   "cell_type": "code",
   "execution_count": 91,
   "metadata": {},
   "outputs": [
    {
     "data": {
      "text/plain": [
       "[1, 2, 2, 3, 3, 5, 5, 6, 6, 4000, 4558, 122325]"
      ]
     },
     "execution_count": 91,
     "metadata": {},
     "output_type": "execute_result"
    }
   ],
   "source": [
    "ls"
   ]
  },
  {
   "cell_type": "code",
   "execution_count": 75,
   "metadata": {},
   "outputs": [
    {
     "data": {
      "text/plain": [
       "6"
      ]
     },
     "execution_count": 75,
     "metadata": {},
     "output_type": "execute_result"
    }
   ],
   "source": [
    "12//2"
   ]
  },
  {
   "cell_type": "code",
   "execution_count": 92,
   "metadata": {},
   "outputs": [
    {
     "name": "stdout",
     "output_type": "stream",
     "text": [
      "(0, 1) (1, 2) (2, 2) (3, 3) (4, 3) (5, 5) (6, 5) (7, 6) (8, 6) (9, 4000) (10, 4558) (11, 122325) "
     ]
    }
   ],
   "source": [
    "for i in enumerate(ls):\n",
    "    print(i,end=' ')"
   ]
  },
  {
   "cell_type": "markdown",
   "metadata": {},
   "source": [
    "Exercise 85: Convert an Integer to its Ordinal Number\n",
    "(47 Lines)\n",
    "Words like first, second and third are referred to as ordinal numbers. In this exercise,\n",
    "you will write a function that takes an integer as its only parameter and returns a\n",
    "string containing the appropriate English ordinal number as its only result. Your\n",
    "function must handle the integers between 1 and 12 (inclusive). It should return an\n",
    "empty string if a value outside of this range is provided as a parameter. Include a\n",
    "main program that demonstrates your function by displaying each integer from 1 to\n",
    "12 and its ordinal number. Your main program should only run when your file has\n",
    "not been imported into another program."
   ]
  },
  {
   "cell_type": "code",
   "execution_count": 1,
   "metadata": {},
   "outputs": [
    {
     "name": "stdout",
     "output_type": "stream",
     "text": [
      "Enter :  1\n",
      "ONE\n"
     ]
    }
   ],
   "source": [
    "num=(input('Enter :  '))\n",
    "def order(num):\n",
    "    if num=='1':print('ONE')\n",
    "    elif num=='2':print('TWO')\n",
    "    elif num=='3':print('THREE')\n",
    "    elif num=='4':print('FOUR')\n",
    "    elif num=='5':print('FIVE')\n",
    "    elif num=='6':print('SIX')\n",
    "    elif num=='7':print('SEVEN')\n",
    "    elif num=='8':print('EIGHT')\n",
    "    elif num=='9':print('NINE')\n",
    "    elif num=='10':print('TEN')\n",
    "    elif num=='11':print('ELEVEN')\n",
    "    elif num=='12':print('TWELVE')\n",
    "    else:\n",
    "        return 'Error'\n",
    "order(num)"
   ]
  },
  {
   "cell_type": "code",
   "execution_count": 25,
   "metadata": {},
   "outputs": [
    {
     "name": "stdout",
     "output_type": "stream",
     "text": [
      "EIGHT\n"
     ]
    }
   ],
   "source": [
    "order('8')"
   ]
  },
  {
   "cell_type": "code",
   "execution_count": 31,
   "metadata": {},
   "outputs": [],
   "source": [
    "def ord_no(no):\n",
    "    if no==1:\n",
    "        return 'First'\n",
    "    elif no==2:\n",
    "        return 'Second'\n",
    "    elif no==3:\n",
    "        return 'Third'\n",
    "    elif no==4:\n",
    "        return 'Fourth'\n",
    "    elif no==5:\n",
    "        return 'Fifth'\n",
    "    elif no==6:\n",
    "        return 'Sixth'\n",
    "    elif no==7:\n",
    "        return 'Seventh'\n",
    "    elif no==8:\n",
    "        return 'Eighth'\n",
    "    elif no==9:\n",
    "        return 'Ninth'\n",
    "    elif no==10:\n",
    "        return 'Tenth'\n",
    "    elif no==11:\n",
    "        return 'Eleventh'\n",
    "    elif no==12:\n",
    "        return 'Twelfth'\n",
    "    else :\n",
    "        return \"Error \""
   ]
  },
  {
   "cell_type": "code",
   "execution_count": 33,
   "metadata": {},
   "outputs": [
    {
     "ename": "NameError",
     "evalue": "name 'we' is not defined",
     "output_type": "error",
     "traceback": [
      "\u001b[1;31m---------------------------------------------------------------------------\u001b[0m",
      "\u001b[1;31mNameError\u001b[0m                                 Traceback (most recent call last)",
      "\u001b[1;32m<ipython-input-33-da5023297363>\u001b[0m in \u001b[0;36m<module>\u001b[1;34m\u001b[0m\n\u001b[1;32m----> 1\u001b[1;33m \u001b[0mord_no\u001b[0m\u001b[1;33m(\u001b[0m\u001b[0mwe\u001b[0m\u001b[1;33m)\u001b[0m\u001b[1;33m\u001b[0m\u001b[1;33m\u001b[0m\u001b[0m\n\u001b[0m",
      "\u001b[1;31mNameError\u001b[0m: name 'we' is not defined"
     ]
    }
   ],
   "source": [
    "ord_no(we)"
   ]
  },
  {
   "cell_type": "code",
   "execution_count": null,
   "metadata": {},
   "outputs": [],
   "source": []
  }
 ],
 "metadata": {
  "kernelspec": {
   "display_name": "Python 3",
   "language": "python",
   "name": "python3"
  },
  "language_info": {
   "codemirror_mode": {
    "name": "ipython",
    "version": 3
   },
   "file_extension": ".py",
   "mimetype": "text/x-python",
   "name": "python",
   "nbconvert_exporter": "python",
   "pygments_lexer": "ipython3",
   "version": "3.7.6"
  }
 },
 "nbformat": 4,
 "nbformat_minor": 4
}
