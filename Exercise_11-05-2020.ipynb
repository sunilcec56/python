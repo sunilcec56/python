{
 "cells": [
  {
   "cell_type": "markdown",
   "metadata": {},
   "source": [
    "Exercise 141: Display the Head of a File\n",
    "(Solved—40 Lines)\n",
    "Unix-based operating systems usually include a tool named head. It displays the\n",
    "first 10 lines of a file whose name is provided as a command line parameter. Write\n",
    "a Python program that provides the same behavior. Display an appropriate error\n",
    "message if the file requested by the user does not exist or if the command line\n",
    "parameter is omitted."
   ]
  },
  {
   "cell_type": "code",
   "execution_count": null,
   "metadata": {},
   "outputs": [],
   "source": [
    "fname = open('filename.txt' 'w')\n",
    "    lines"
   ]
  },
  {
   "cell_type": "code",
   "execution_count": 77,
   "metadata": {},
   "outputs": [],
   "source": [
    "x=open('test.txt','w')\n",
    "for i in range()\n",
    "#x.readlines()\n",
    "x.close()"
   ]
  },
  {
   "cell_type": "code",
   "execution_count": 79,
   "metadata": {},
   "outputs": [
    {
     "name": "stdout",
     "output_type": "stream",
     "text": [
      "[' omr 1 \\n', '  omr 2 \\n', ' omr 3 \\n', ' omr 4 ']\n"
     ]
    }
   ],
   "source": [
    "x=open('test.txt','r')\n",
    "x.seek(0)\n",
    "lin=x.readlines()\n",
    "print(lin)"
   ]
  },
  {
   "cell_type": "code",
   "execution_count": 69,
   "metadata": {},
   "outputs": [
    {
     "name": "stdout",
     "output_type": "stream",
     "text": [
      " omr 1 \n",
      " omr2 \n",
      " omr3 \n",
      "\n"
     ]
    }
   ],
   "source": [
    "print(' omr 1 \\n omr2 \\n omr3 \\n')"
   ]
  },
  {
   "cell_type": "code",
   "execution_count": null,
   "metadata": {},
   "outputs": [],
   "source": []
  },
  {
   "cell_type": "code",
   "execution_count": 174,
   "metadata": {},
   "outputs": [],
   "source": [
    "x=open('test.txt', 'w+')\n",
    "\n",
    "for i in range(1,21):\n",
    "    #x.write('{}a  {}b ' '{}c \\n'.format(i,i+1,i+2))\n",
    "    x.write(' this is line no : {} \\n'.format(i))"
   ]
  },
  {
   "cell_type": "code",
   "execution_count": 183,
   "metadata": {},
   "outputs": [
    {
     "name": "stdout",
     "output_type": "stream",
     "text": [
      " this is line no : 10 this is reverse\n",
      " this is line no : 9 this is reverse\n",
      " this is line no : 8 this is reverse\n",
      " this is line no : 7 this is reverse\n",
      " this is line no : 6 this is reverse\n",
      " this is line no : 5 this is reverse\n",
      " this is line no : 4 this is reverse\n",
      " this is line no : 3 this is reverse\n",
      " this is line no : 2 this is reverse\n",
      " this is line no : 1 this is reverse\n",
      "\n",
      "\n",
      "\n",
      "\n",
      " this is line no : 1  forward\n",
      " this is line no : 2  forward\n",
      " this is line no : 3  forward\n",
      " this is line no : 4  forward\n",
      " this is line no : 5  forward\n",
      " this is line no : 6  forward\n",
      " this is line no : 7  forward\n",
      " this is line no : 8  forward\n",
      " this is line no : 9  forward\n",
      " this is line no : 10  forward\n"
     ]
    }
   ],
   "source": [
    "x.seek(0)\n",
    "li=x.read()\n",
    "#print(li)\n",
    "#print(\"\\n\\n\\n\")\n",
    "z=li.split(\"\\n\")\n",
    "i=9\n",
    "j=0\n",
    "while i>=0 :\n",
    "    print(z[i] + 'this is reverse')\n",
    "    i-=1\n",
    "print(\"\\n\\n\\n\")\n",
    "while j<10:\n",
    "    print(z[j]+ ' forward')\n",
    "    j+=1"
   ]
  },
  {
   "cell_type": "code",
   "execution_count": 178,
   "metadata": {},
   "outputs": [],
   "source": [
    "a=li.split()"
   ]
  },
  {
   "cell_type": "code",
   "execution_count": 169,
   "metadata": {},
   "outputs": [],
   "source": [
    "b=a[0:10]"
   ]
  },
  {
   "cell_type": "code",
   "execution_count": 170,
   "metadata": {},
   "outputs": [
    {
     "name": "stdout",
     "output_type": "stream",
     "text": [
      "[' this is line no : 1 ', ' this is line no : 2 ', ' this is line no : 3 ', ' this is line no : 4 ', ' this is line no : 5 ', ' this is line no : 6 ', ' this is line no : 7 ', ' this is line no : 8 ', ' this is line no : 9 ', ' this is line no : 10 ']\n"
     ]
    }
   ],
   "source": [
    "print(b)"
   ]
  },
  {
   "cell_type": "code",
   "execution_count": null,
   "metadata": {},
   "outputs": [],
   "source": []
  },
  {
   "cell_type": "code",
   "execution_count": null,
   "metadata": {},
   "outputs": [],
   "source": []
  },
  {
   "cell_type": "code",
   "execution_count": 112,
   "metadata": {},
   "outputs": [
    {
     "name": "stdout",
     "output_type": "stream",
     "text": [
      "omr\n",
      "omr\n",
      "omr\n",
      "omr\n",
      "omr\n",
      "omr\n",
      "omr\n",
      "omr\n",
      "omr\n",
      "omr\n",
      "\n"
     ]
    }
   ],
   "source": [
    "x.seek(0)\n",
    "li=x.read()\n",
    "print(li)"
   ]
  },
  {
   "cell_type": "code",
   "execution_count": 71,
   "metadata": {},
   "outputs": [
    {
     "data": {
      "text/plain": [
       "'12345678910'"
      ]
     },
     "execution_count": 71,
     "metadata": {},
     "output_type": "execute_result"
    }
   ],
   "source": [
    "li[0]"
   ]
  },
  {
   "cell_type": "code",
   "execution_count": 114,
   "metadata": {},
   "outputs": [
    {
     "data": {
      "text/plain": [
       "[]"
      ]
     },
     "execution_count": 114,
     "metadata": {},
     "output_type": "execute_result"
    }
   ],
   "source": [
    "y.readlines()"
   ]
  },
  {
   "cell_type": "code",
   "execution_count": 184,
   "metadata": {},
   "outputs": [
    {
     "name": "stdout",
     "output_type": "stream",
     "text": [
      "sunya\n"
     ]
    }
   ],
   "source": [
    "print(\"sunya\")"
   ]
  },
  {
   "cell_type": "code",
   "execution_count": null,
   "metadata": {},
   "outputs": [],
   "source": []
  }
 ],
 "metadata": {
  "kernelspec": {
   "display_name": "Python 3",
   "language": "python",
   "name": "python3"
  },
  "language_info": {
   "codemirror_mode": {
    "name": "ipython",
    "version": 3
   },
   "file_extension": ".py",
   "mimetype": "text/x-python",
   "name": "python",
   "nbconvert_exporter": "python",
   "pygments_lexer": "ipython3",
   "version": "3.7.6"
  }
 },
 "nbformat": 4,
 "nbformat_minor": 4
}
