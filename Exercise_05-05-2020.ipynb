{
 "cells": [
  {
   "cell_type": "markdown",
   "metadata": {},
   "source": [
    "Exercise 92: Is a Number Prime?\n",
    "(Solved—28 Lines)\n",
    "A prime number is an integer greater than 1 that is only divisible by one and itself.\n",
    "Write a function that determines whether or not its parameter is prime, returning\n",
    "True if it is, and False otherwise. Write a main program that reads an integer\n",
    "from the user and displays a message indicating whether or not it is prime. Ensure\n",
    "that the main program will not run if the file containing your solution is imported\n",
    "into another program."
   ]
  },
  {
   "cell_type": "code",
   "execution_count": 21,
   "metadata": {},
   "outputs": [
    {
     "name": "stdout",
     "output_type": "stream",
     "text": [
      "1\n",
      "prime\n"
     ]
    }
   ],
   "source": [
    "pr = int(input())\n",
    "def prime_no(pr):\n",
    "    i=2\n",
    "    key=0\n",
    "    while i<pr:\n",
    "        if pr%i==0:\n",
    "            print(\"Not Prime\")\n",
    "            key=2\n",
    "            break\n",
    "        else:\n",
    "            i+=1\n",
    "    \n",
    "    if key==0:\n",
    "        print('prime')\n",
    "prime_no(pr)\n"
   ]
  },
  {
   "cell_type": "code",
   "execution_count": 65,
   "metadata": {},
   "outputs": [
    {
     "name": "stdout",
     "output_type": "stream",
     "text": [
      "Enter number and find prime upto  : 100\n",
      "[2, 3, 5, 7, 11, 13, 17, 19, 23, 29, 31, 37, 41, 43, 47, 53, 59, 61, 67, 71, 73, 79, 83, 89, 97]\n",
      "no of prime no = 25\n"
     ]
    }
   ],
   "source": [
    "pr = int(input('Enter number and find prime upto  : '))\n",
    "def prime_no(pr):\n",
    "    if pr==1: print(\"Not Prime\")\n",
    "    else:\n",
    "            i=2\n",
    "            key=0\n",
    "            while i<pr:\n",
    "                if pr%i==0:\n",
    "                   # print(\"Not Prime\")\n",
    "                    key=1\n",
    "                    return False\n",
    "                    break\n",
    "                else:\n",
    "                    i+=1\n",
    "\n",
    "            if key==0:\n",
    "               # print('prime')\n",
    "                return True\n",
    "                \n",
    "#prime_no(pr)\n",
    "ls=[]\n",
    "for k in range(2,pr):\n",
    "    if prime_no(k)==True:\n",
    "        ls.append(k)\n",
    "    \n",
    "print(ls)\n",
    "print('no of prime no = ' + str(len(ls)))\n",
    "\n"
   ]
  },
  {
   "cell_type": "code",
   "execution_count": 38,
   "metadata": {},
   "outputs": [
    {
     "data": {
      "text/plain": [
       "168"
      ]
     },
     "execution_count": 38,
     "metadata": {},
     "output_type": "execute_result"
    }
   ],
   "source": [
    "len(ls)"
   ]
  },
  {
   "cell_type": "code",
   "execution_count": null,
   "metadata": {},
   "outputs": [],
   "source": []
  },
  {
   "cell_type": "markdown",
   "metadata": {},
   "source": [
    "Exercise 93: Next Prime\n",
    "(27 Lines)\n",
    "In this exercise you will create a function named nextPrime that finds and returns\n",
    "the first prime number larger than some integer, n. The value of n will be passed to\n",
    "44 4 Function Exercises\n",
    "the function as its only parameter. Include a main program that reads an integer from\n",
    "the user and displays the first prime number larger than the entered value. Import\n",
    "and use your solution to Exercise 92 while completing this exercise.\n",
    "Exercise 94:"
   ]
  },
  {
   "cell_type": "code",
   "execution_count": 73,
   "metadata": {},
   "outputs": [
    {
     "name": "stdout",
     "output_type": "stream",
     "text": [
      "Enter number and find prime upto  : 100\n",
      "next prime no =  101\n"
     ]
    }
   ],
   "source": [
    "\n",
    "def prime_no(pr):\n",
    "    if pr==1: return False\n",
    "    else:\n",
    "            i=2\n",
    "            key=0\n",
    "            while i<pr:\n",
    "                if pr%i==0:\n",
    "                   # print(\"Not Prime\")\n",
    "                    key=1\n",
    "                    return False\n",
    "                    break\n",
    "                else:\n",
    "                    i+=1\n",
    "\n",
    "            if key==0:\n",
    "               # print('prime')\n",
    "                return True\n",
    "\n",
    "pr = int(input('Enter number and find prime upto  : ')) \n",
    "pr+=1\n",
    "while prime_no(pr)==False:\n",
    "    pr+=1\n",
    "print('next prime no = ' ,pr)"
   ]
  },
  {
   "cell_type": "code",
   "execution_count": 68,
   "metadata": {},
   "outputs": [
    {
     "data": {
      "text/plain": [
       "6"
      ]
     },
     "execution_count": 68,
     "metadata": {},
     "output_type": "execute_result"
    }
   ],
   "source": [
    "len(\"banesh\")"
   ]
  },
  {
   "cell_type": "code",
   "execution_count": 71,
   "metadata": {},
   "outputs": [
    {
     "name": "stdout",
     "output_type": "stream",
     "text": [
      "Enter number and find prime upto  : 50\n",
      "53\n"
     ]
    }
   ],
   "source": [
    "\n"
   ]
  },
  {
   "cell_type": "code",
   "execution_count": null,
   "metadata": {},
   "outputs": [],
   "source": [
    "def "
   ]
  }
 ],
 "metadata": {
  "kernelspec": {
   "display_name": "Python 3",
   "language": "python",
   "name": "python3"
  },
  "language_info": {
   "codemirror_mode": {
    "name": "ipython",
    "version": 3
   },
   "file_extension": ".py",
   "mimetype": "text/x-python",
   "name": "python",
   "nbconvert_exporter": "python",
   "pygments_lexer": "ipython3",
   "version": "3.7.6"
  }
 },
 "nbformat": 4,
 "nbformat_minor": 4
}
